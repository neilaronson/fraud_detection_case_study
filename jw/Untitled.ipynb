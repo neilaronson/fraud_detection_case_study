{
 "cells": [
  {
   "cell_type": "code",
   "execution_count": 28,
   "metadata": {
    "collapsed": false
   },
   "outputs": [],
   "source": [
    "import pandas as pd\n",
    "import numpy as np\n",
    "import matplotlib.pyplot as plt\n",
    "from sklearn.model_selection import train_test_split\n",
    "import random\n",
    "from sklearn.metrics import precision_score, f1_score,recall_score,confusion_matrix,accuracy_score"
   ]
  },
  {
   "cell_type": "code",
   "execution_count": 23,
   "metadata": {
    "collapsed": false
   },
   "outputs": [],
   "source": [
    "df = pd.read_json('/Users/hercules/Desktop/Galvanize/Course/SpecialTopics:CaseStudy/FraudDetectionCaseStudy/src/fraud-detection-case-study/data/data.json',convert_dates=['approx_payout_date','event_created','event_end','event_published','event_start','user_created','event_published'])"
   ]
  },
  {
   "cell_type": "code",
   "execution_count": 24,
   "metadata": {
    "collapsed": true
   },
   "outputs": [],
   "source": [
    "df['fraud'] = df['acct_type'].isin(['fraudster_event', 'fraudster', 'fraudster_att'])"
   ]
  },
  {
   "cell_type": "code",
   "execution_count": null,
   "metadata": {
    "collapsed": false
   },
   "outputs": [],
   "source": []
  },
  {
   "cell_type": "code",
   "execution_count": 25,
   "metadata": {
    "collapsed": false
   },
   "outputs": [],
   "source": [
    "df['fraud'] = df['acct_type'].isin(['fraudster_event', 'fraudster', 'fraudster_att'])\n",
    "Y = df.pop('fraud').values\n",
    "X = df.values\n",
    "cols = df.columns\n",
    "X_train, X_test, y_train, y_test = train_test_split(X, Y, train_size=.8, random_state=123)\n",
    "training = pd.DataFrame(X_train, columns=cols)\n",
    "training['fraud'] = y_train\n",
    "test = pd.DataFrame(X_test, columns=cols)\n",
    "test['fraud'] = y_test"
   ]
  },
  {
   "cell_type": "code",
   "execution_count": null,
   "metadata": {
    "collapsed": false
   },
   "outputs": [],
   "source": []
  },
  {
   "cell_type": "code",
   "execution_count": null,
   "metadata": {
    "collapsed": true
   },
   "outputs": [],
   "source": []
  },
  {
   "cell_type": "code",
   "execution_count": null,
   "metadata": {
    "collapsed": true
   },
   "outputs": [],
   "source": []
  },
  {
   "cell_type": "code",
   "execution_count": null,
   "metadata": {
    "collapsed": true
   },
   "outputs": [],
   "source": []
  },
  {
   "cell_type": "code",
   "execution_count": null,
   "metadata": {
    "collapsed": true
   },
   "outputs": [],
   "source": []
  },
  {
   "cell_type": "code",
   "execution_count": null,
   "metadata": {
    "collapsed": true
   },
   "outputs": [],
   "source": []
  },
  {
   "cell_type": "code",
   "execution_count": null,
   "metadata": {
    "collapsed": true
   },
   "outputs": [],
   "source": []
  },
  {
   "cell_type": "code",
   "execution_count": null,
   "metadata": {
    "collapsed": true
   },
   "outputs": [],
   "source": []
  },
  {
   "cell_type": "code",
   "execution_count": null,
   "metadata": {
    "collapsed": true
   },
   "outputs": [],
   "source": []
  },
  {
   "cell_type": "code",
   "execution_count": null,
   "metadata": {
    "collapsed": true
   },
   "outputs": [],
   "source": []
  },
  {
   "cell_type": "code",
   "execution_count": 33,
   "metadata": {
    "collapsed": true
   },
   "outputs": [],
   "source": [
    "\n",
    "def baseline(y_train):\n",
    "    ''' this model predicts a either 1 or 0 (True or False) based on the probability from the\n",
    "    training data that a value is either True or False\n",
    "\n",
    "    for the fraud case_study\n",
    "    '''\n",
    "    #imported random\n",
    "    prob_fraud = sum(y_train)/float(len(y_train))\n",
    "    isfraud = None\n",
    "    if random.random() > prob_fraud:\n",
    "        isfraud = False\n",
    "    else:\n",
    "        isfraud = True\n",
    "    return isfraud\n",
    "\n",
    "def baseline_stats(y_train,y_test):\n",
    "    y_pred = []\n",
    "    prob_fraud = sum(y_train)/float(len(y_train))\n",
    "    for y in range(len(y_test)):\n",
    "        isfraud = None\n",
    "        if random.random() > prob_fraud:\n",
    "            isfraud = False\n",
    "        else:\n",
    "            isfraud = True\n",
    "        y_pred.append(isfraud)\n",
    "    confus_mat = np.array(confusion_matrix(y_test, y_pred))\n",
    "    return precision_score(y_test,y_pred), accuracy_score(y_test,y_pred), recall_score(y_test,y_pred), f1_score(y_test,y_pred), confus_mat"
   ]
  },
  {
   "cell_type": "code",
   "execution_count": null,
   "metadata": {
    "collapsed": true
   },
   "outputs": [],
   "source": []
  },
  {
   "cell_type": "code",
   "execution_count": 34,
   "metadata": {
    "collapsed": false
   },
   "outputs": [
    {
     "name": "stdout",
     "output_type": "stream",
     "text": [
      "(0.10989010989010989, 0.83786610878661083, 0.11904761904761904, 0.11428571428571428, array([[2373,  243],\n",
      "       [ 222,   30]]))\n"
     ]
    }
   ],
   "source": [
    "print baseline_stats(y_train,y_test)"
   ]
  },
  {
   "cell_type": "code",
   "execution_count": null,
   "metadata": {
    "collapsed": true
   },
   "outputs": [],
   "source": []
  },
  {
   "cell_type": "code",
   "execution_count": null,
   "metadata": {
    "collapsed": true
   },
   "outputs": [],
   "source": []
  },
  {
   "cell_type": "code",
   "execution_count": null,
   "metadata": {
    "collapsed": false
   },
   "outputs": [],
   "source": []
  },
  {
   "cell_type": "code",
   "execution_count": null,
   "metadata": {
    "collapsed": true
   },
   "outputs": [],
   "source": []
  }
 ],
 "metadata": {
  "anaconda-cloud": {},
  "kernelspec": {
   "display_name": "Python [default]",
   "language": "python",
   "name": "python2"
  }
 },
 "nbformat": 4,
 "nbformat_minor": 1
}
