{
 "cells": [
  {
   "cell_type": "code",
   "execution_count": 28,
   "metadata": {
    "collapsed": false
   },
   "outputs": [],
   "source": [
    "import pandas as pd\n",
    "import numpy as np\n",
    "import matplotlib.pyplot as plt\n",
    "from sklearn.model_selection import train_test_split\n",
    "import random\n",
    "from sklearn.metrics import precision_score, f1_score,recall_score,confusion_matrix,accuracy_score"
   ]
  },
  {
   "cell_type": "code",
   "execution_count": 23,
   "metadata": {
    "collapsed": false
   },
   "outputs": [],
   "source": [
    "df = pd.read_json('/Users/hercules/Desktop/Galvanize/Course/SpecialTopics:CaseStudy/FraudDetectionCaseStudy/src/fraud-detection-case-study/data/data.json',convert_dates=['approx_payout_date','event_created','event_end','event_published','event_start','user_created','event_published'])"
   ]
  },
  {
   "cell_type": "code",
   "execution_count": 24,
   "metadata": {
    "collapsed": true
   },
   "outputs": [],
   "source": [
    "df['fraud'] = df['acct_type'].isin(['fraudster_event', 'fraudster', 'fraudster_att'])"
   ]
  },
  {
   "cell_type": "code",
   "execution_count": null,
   "metadata": {
    "collapsed": false
   },
   "outputs": [],
   "source": []
  },
  {
   "cell_type": "code",
   "execution_count": 25,
   "metadata": {
    "collapsed": false
   },
   "outputs": [],
   "source": [
    "df['fraud'] = df['acct_type'].isin(['fraudster_event', 'fraudster', 'fraudster_att'])\n",
    "Y = df.pop('fraud').values\n",
    "X = df.values\n",
    "cols = df.columns\n",
    "X_train, X_test, y_train, y_test = train_test_split(X, Y, train_size=.8, random_state=123)\n",
    "training = pd.DataFrame(X_train, columns=cols)\n",
    "training['fraud'] = y_train\n",
    "test = pd.DataFrame(X_test, columns=cols)\n",
    "test['fraud'] = y_test"
   ]
  },
  {
   "cell_type": "code",
   "execution_count": 44,
   "metadata": {
    "collapsed": false
   },
   "outputs": [
    {
     "name": "stdout",
     "output_type": "stream",
     "text": [
      "<class 'pandas.core.frame.DataFrame'>\n",
      "Int64Index: 14337 entries, 0 to 14336\n",
      "Data columns (total 44 columns):\n",
      "acct_type             14337 non-null object\n",
      "approx_payout_date    14337 non-null datetime64[ns]\n",
      "body_length           14337 non-null int64\n",
      "channels              14337 non-null int64\n",
      "country               14256 non-null object\n",
      "currency              14337 non-null object\n",
      "delivery_method       14321 non-null float64\n",
      "description           14337 non-null object\n",
      "email_domain          14337 non-null object\n",
      "event_created         14337 non-null datetime64[ns]\n",
      "event_end             14337 non-null datetime64[ns]\n",
      "event_published       14238 non-null float64\n",
      "event_start           14337 non-null datetime64[ns]\n",
      "fb_published          14337 non-null int64\n",
      "gts                   14337 non-null float64\n",
      "has_analytics         14337 non-null int64\n",
      "has_header            8928 non-null float64\n",
      "has_logo              14337 non-null int64\n",
      "listed                14337 non-null object\n",
      "name                  14337 non-null object\n",
      "name_length           14337 non-null int64\n",
      "num_order             14337 non-null int64\n",
      "num_payouts           14337 non-null int64\n",
      "object_id             14337 non-null int64\n",
      "org_desc              14337 non-null object\n",
      "org_facebook          14278 non-null float64\n",
      "org_name              14337 non-null object\n",
      "org_twitter           14278 non-null float64\n",
      "payee_name            14337 non-null object\n",
      "payout_type           14337 non-null object\n",
      "previous_payouts      14337 non-null object\n",
      "sale_duration         14182 non-null float64\n",
      "sale_duration2        14337 non-null int64\n",
      "show_map              14337 non-null int64\n",
      "ticket_types          14337 non-null object\n",
      "user_age              14337 non-null int64\n",
      "user_created          14337 non-null datetime64[ns]\n",
      "user_type             14337 non-null int64\n",
      "venue_address         14337 non-null object\n",
      "venue_country         13261 non-null object\n",
      "venue_latitude        13261 non-null float64\n",
      "venue_longitude       13261 non-null float64\n",
      "venue_name            13261 non-null object\n",
      "venue_state           13261 non-null object\n",
      "dtypes: datetime64[ns](5), float64(9), int64(13), object(17)\n",
      "memory usage: 4.9+ MB\n"
     ]
    }
   ],
   "source": [
    "df.info()"
   ]
  },
  {
   "cell_type": "code",
   "execution_count": null,
   "metadata": {
    "collapsed": true
   },
   "outputs": [],
   "source": []
  },
  {
   "cell_type": "code",
   "execution_count": null,
   "metadata": {
    "collapsed": true
   },
   "outputs": [],
   "source": []
  },
  {
   "cell_type": "code",
   "execution_count": null,
   "metadata": {
    "collapsed": true
   },
   "outputs": [],
   "source": []
  },
  {
   "cell_type": "code",
   "execution_count": null,
   "metadata": {
    "collapsed": true
   },
   "outputs": [],
   "source": []
  },
  {
   "cell_type": "code",
   "execution_count": null,
   "metadata": {
    "collapsed": true
   },
   "outputs": [],
   "source": []
  },
  {
   "cell_type": "code",
   "execution_count": null,
   "metadata": {
    "collapsed": true
   },
   "outputs": [],
   "source": []
  },
  {
   "cell_type": "code",
   "execution_count": 37,
   "metadata": {
    "collapsed": false
   },
   "outputs": [],
   "source": [
    "test = df.head(1000)\n"
   ]
  },
  {
   "cell_type": "code",
   "execution_count": 42,
   "metadata": {
    "collapsed": false
   },
   "outputs": [
    {
     "data": {
      "text/plain": [
       "gmail.com                       3097\n",
       "yahoo.com                        792\n",
       "hotmail.com                      399\n",
       "aol.com                          198\n",
       "live.com                          80\n",
       "me.com                            75\n",
       "ymail.com                         68\n",
       "comcast.net                       60\n",
       "generalassemb.ly                  58\n",
       "kineticevents.com                 52\n",
       "yahoo.co.uk                       52\n",
       "hotmail.co.uk                     48\n",
       "improvboston.com                  46\n",
       "sippingnpainting.com              39\n",
       "claytonislandtours.com            37\n",
       "lidf.co.uk                        35\n",
       "racetonowhere.com                 35\n",
       "live.fr                           33\n",
       "greatworldadventures.com          31\n",
       "yahoo.ca                          31\n",
       "shaw.ca                           28\n",
       "sbcglobal.net                     26\n",
       "msn.com                           25\n",
       "mac.com                           25\n",
       "guardian.co.uk                    24\n",
       "live.co.uk                        24\n",
       "rocketmail.com                    23\n",
       "joonbug.com                       23\n",
       "busboysandpoets.com               21\n",
       "jhilburn.com                      21\n",
       "                                ... \n",
       "gccnh.com                          1\n",
       "connecteduk.org                    1\n",
       "leadershipmemphis.org              1\n",
       "christmascrawl.com                 1\n",
       "lesfilmfestival.com                1\n",
       "livingwellcounselling.ca           1\n",
       "gregorywhitepr.com                 1\n",
       "live-life-smiling.com              1\n",
       "bruisedfruitpromotions.com         1\n",
       "jimstrickland2012.com              1\n",
       "sycamoreschools.org                1\n",
       "harcvs.org.uk                      1\n",
       "kailocs.com                        1\n",
       "indiabestplace.com                 1\n",
       "417mag.com                         1\n",
       "Calvaryphx.com                     1\n",
       "stjohnvianney.net                  1\n",
       "idealpublicity.com                 1\n",
       "marketeeringgroup.com              1\n",
       "milanimedia.com                    1\n",
       "uplandbeer.com                     1\n",
       "ltefnj.org                         1\n",
       "alicestapleton.com                 1\n",
       "thelotinitiative.org               1\n",
       "stantec.com                        1\n",
       "hopecorby.org                      1\n",
       "calvaryconnect.com                 1\n",
       "eiffelsociety.com                  1\n",
       "businessgolfconnection.com         1\n",
       "meet-the-artist-concerts.com       1\n",
       "Name: email_domain, dtype: int64"
      ]
     },
     "execution_count": 42,
     "metadata": {},
     "output_type": "execute_result"
    }
   ],
   "source": [
    "df.email_domain.value_counts()"
   ]
  },
  {
   "cell_type": "code",
   "execution_count": null,
   "metadata": {
    "collapsed": true
   },
   "outputs": [],
   "source": []
  },
  {
   "cell_type": "code",
   "execution_count": null,
   "metadata": {
    "collapsed": true
   },
   "outputs": [],
   "source": []
  },
  {
   "cell_type": "code",
   "execution_count": null,
   "metadata": {
    "collapsed": true
   },
   "outputs": [],
   "source": []
  },
  {
   "cell_type": "code",
   "execution_count": null,
   "metadata": {
    "collapsed": true
   },
   "outputs": [],
   "source": []
  },
  {
   "cell_type": "code",
   "execution_count": null,
   "metadata": {
    "collapsed": true
   },
   "outputs": [],
   "source": []
  },
  {
   "cell_type": "code",
   "execution_count": null,
   "metadata": {
    "collapsed": true
   },
   "outputs": [],
   "source": []
  },
  {
   "cell_type": "code",
   "execution_count": null,
   "metadata": {
    "collapsed": true
   },
   "outputs": [],
   "source": []
  },
  {
   "cell_type": "code",
   "execution_count": 33,
   "metadata": {
    "collapsed": true
   },
   "outputs": [],
   "source": [
    "\n",
    "def baseline(y_train):\n",
    "    ''' this model predicts a either 1 or 0 (True or False) based on the probability from the\n",
    "    training data that a value is either True or False\n",
    "\n",
    "    for the fraud case_study\n",
    "    '''\n",
    "    #imported random\n",
    "    prob_fraud = sum(y_train)/float(len(y_train))\n",
    "    isfraud = None\n",
    "    if random.random() > prob_fraud:\n",
    "        isfraud = False\n",
    "    else:\n",
    "        isfraud = True\n",
    "    return isfraud\n",
    "\n",
    "def baseline_stats(y_train,y_test):\n",
    "    y_pred = []\n",
    "    prob_fraud = sum(y_train)/float(len(y_train))\n",
    "    for y in range(len(y_test)):\n",
    "        isfraud = None\n",
    "        if random.random() > prob_fraud:\n",
    "            isfraud = False\n",
    "        else:\n",
    "            isfraud = True\n",
    "        y_pred.append(isfraud)\n",
    "    confus_mat = np.array(confusion_matrix(y_test, y_pred))\n",
    "    return precision_score(y_test,y_pred), accuracy_score(y_test,y_pred), recall_score(y_test,y_pred), f1_score(y_test,y_pred), confus_mat"
   ]
  },
  {
   "cell_type": "code",
   "execution_count": null,
   "metadata": {
    "collapsed": true
   },
   "outputs": [],
   "source": []
  },
  {
   "cell_type": "code",
   "execution_count": 34,
   "metadata": {
    "collapsed": false
   },
   "outputs": [
    {
     "name": "stdout",
     "output_type": "stream",
     "text": [
      "(0.10989010989010989, 0.83786610878661083, 0.11904761904761904, 0.11428571428571428, array([[2373,  243],\n",
      "       [ 222,   30]]))\n"
     ]
    }
   ],
   "source": [
    "print baseline_stats(y_train,y_test)"
   ]
  },
  {
   "cell_type": "code",
   "execution_count": null,
   "metadata": {
    "collapsed": true
   },
   "outputs": [],
   "source": []
  },
  {
   "cell_type": "code",
   "execution_count": null,
   "metadata": {
    "collapsed": true
   },
   "outputs": [],
   "source": []
  },
  {
   "cell_type": "code",
   "execution_count": null,
   "metadata": {
    "collapsed": false
   },
   "outputs": [],
   "source": []
  },
  {
   "cell_type": "code",
   "execution_count": null,
   "metadata": {
    "collapsed": true
   },
   "outputs": [],
   "source": []
  }
 ],
 "metadata": {
  "anaconda-cloud": {},
  "kernelspec": {
   "display_name": "Python [default]",
   "language": "python",
   "name": "python2"
  },
  "language_info": {
   "codemirror_mode": {
    "name": "ipython",
    "version": 2
   },
   "file_extension": ".py",
   "mimetype": "text/x-python",
   "name": "python",
   "nbconvert_exporter": "python",
   "pygments_lexer": "ipython2",
   "version": "2.7.12"
  }
 },
 "nbformat": 4,
 "nbformat_minor": 1
}
